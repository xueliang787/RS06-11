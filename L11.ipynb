{
 "cells": [
  {
   "cell_type": "markdown",
   "metadata": {},
   "source": [
    "### Thinking1 电商定向广告和搜索广告有怎样的区别，算法模型是否有差别"
   ]
  },
  {
   "cell_type": "markdown",
   "metadata": {},
   "source": [
    "##### 电商定向广告中用户没有很明显的意图（主动的Query查询）。比如用户来到淘宝之前，自己也没有特别明确的目标，利用以往的历史行为投放电商定向广告进行推荐。\n",
    "\n",
    "搜索广告需要用户有一个主动查询的意图。用户通过检索关键字，得到想要的结果。"
   ]
  },
  {
   "cell_type": "markdown",
   "metadata": {},
   "source": [
    "##### 电商定向广告和搜索广告的算法模型略有差别，但是大体上比较相同，都可以使用线性模型，非线性模型，深度模型。\n",
    "\n",
    "只不过电商定向广告算法中要加入用户的行为等信息，而搜索广告主要是基于用户搜索信息。\n",
    "\n",
    "而且在排序学习策略不同，搜索广告对排序要求较高，定向广告则不。"
   ]
  },
  {
   "cell_type": "markdown",
   "metadata": {},
   "source": [
    "### Thinking2 定向广告都有哪些常见的使用模型，包括Attention机制模型"
   ]
  },
  {
   "cell_type": "markdown",
   "metadata": {},
   "source": [
    "##### LR模型（线性模型）\n",
    "\n",
    "LR模型 + 人工特征，LR模型不能处理非线性特征，所以需要特征工程去加入非线性特征\n",
    "\n",
    "\n"
   ]
  },
  {
   "cell_type": "markdown",
   "metadata": {},
   "source": [
    "##### MLR模型（非线性模型）\n",
    "Mixed Logistic Regression，混合逻辑回归，\n",
    "采用分而治之的策略，用分段线性+级联，拟合高维空间的非线性分类面，相比于人工来说提升了效率和精度"
   ]
  },
  {
   "cell_type": "markdown",
   "metadata": {},
   "source": [
    "##### DNN模型（深度学习）\n",
    "能使用GPU，处理复杂模型和大数据量\n"
   ]
  },
  {
   "cell_type": "markdown",
   "metadata": {},
   "source": [
    "##### 阿里深度兴趣网络DIN\n"
   ]
  },
  {
   "cell_type": "markdown",
   "metadata": {},
   "source": [
    "##### 阿里深度兴趣进化网络DIEN"
   ]
  },
  {
   "cell_type": "markdown",
   "metadata": {},
   "source": [
    "##### 深度会话兴趣网络DSIN\n"
   ]
  },
  {
   "cell_type": "markdown",
   "metadata": {},
   "source": [
    "### Thinking3 DIN中的Attention机制思想和原理是怎样的\n"
   ]
  },
  {
   "cell_type": "markdown",
   "metadata": {},
   "source": [
    "##### 思想：\n",
    "\n",
    "把用户历史行为特征进行embedding操作，视为对用户兴趣的表示，之后通过Attention Unit，对每个兴趣表示赋予不同的权值\n",
    "\n",
    "Attention Weight是由用户历史行为和候选广告进行匹配计算得到的，对应着洞察（用户兴趣的Diversity，以及Local Activation）\n",
    "\n"
   ]
  },
  {
   "cell_type": "markdown",
   "metadata": {},
   "source": [
    "##### 原理：\n",
    "\n",
    "在对用户行为的embedding计算上引入了attention network (也称为Activation Unit)。Activation Unit输出Activation Weight，输入包括用户行为embedding和候选广告embedding以外，还考虑了他们两个的外积。\n",
    "\n",
    "Activation Weight权重就是用户的兴趣强度。权重越大，说明用户更感兴趣。\n",
    "\n",
    "DIN在DNN基础上的改进部分：Dice激活函数，自适应正则，以及改进的AUC评价指标"
   ]
  },
  {
   "cell_type": "markdown",
   "metadata": {},
   "source": [
    "### Thinking4 DIEN相比于DIN有哪些创新"
   ]
  },
  {
   "cell_type": "markdown",
   "metadata": {},
   "source": [
    "##### DIN的不足\n",
    "\n",
    "利用用户行为序列特征，直接把用户历史行为当做兴趣。\n",
    "\n",
    "直接用行为表示兴趣可能存在问题。因为行为是序列化产生的，行为之间存在依赖关系，比如当前时刻的兴趣往往直接导致了下一行为的发生。\n",
    "\n",
    "用户的兴趣是不断进化的，而DIN抽取的用户兴趣之间是独立无关联的，没有捕获到兴趣的动态进化性，比如用户对衣服的喜好，会随季节、时尚风潮以及个人品味的变化而变化，呈现一种连续的变迁趋势。\n"
   ]
  },
  {
   "cell_type": "markdown",
   "metadata": {},
   "source": [
    "##### DIEN创新之处\n",
    "\n",
    "DIEN和DIN最底层都有Embedding Layer，User profile， target AD和context feature，处理方式一样。\n",
    "\n",
    "DIEN增加了Interest Evolution Layer。\n",
    "\n",
    "Interest Extractor Layer从embedding数据中提取出interest。但用户在某一时间的interest不仅与当前的behavior有关，也与之前的behavior相关，所以使用GRU单元来提取interest。\n",
    "\n",
    "Interest Extractor Layer，通过辅助loss，提升兴趣表达的准确性。\n",
    "\n",
    "Interest Evolution Layer，更准确的表达用户兴趣的动态变化性，在GRU基础上增加Attention机制，找到与target AD相关的interest。\n",
    "\n",
    "DIN简单的使用外积完成的activation unit改变成使用attention-based GRU网络，更好的挖掘序列数据中的兴趣及演化"
   ]
  },
  {
   "cell_type": "markdown",
   "metadata": {},
   "source": [
    "### Thinking5 DSIN关于Session的洞察是怎样的，如何对Session兴趣进行表达"
   ]
  },
  {
   "cell_type": "markdown",
   "metadata": {},
   "source": [
    "##### 每个Session中的行为是相近的，而在不同会话之间差别是很大的（类似聚类）。Session的划分和airbnb一样，即将用户的点击行为按照时间排序，前后的时间间隔大于30min，算成另一个session。"
   ]
  },
  {
   "cell_type": "markdown",
   "metadata": {},
   "source": [
    "##### 表达\n",
    "\n",
    "首先使用带有Bias Encoding（偏置编码）的Self-Attention（自我注意力）机制 => 提取用户的Session兴趣向量。\n",
    "\n",
    "然后利用Bi-LSTM 对用户的Session之间的交互进行建模 => 带有上下文信息的Session兴趣向量。\n",
    "\n",
    "最后利用Activation Unit（局部激活单元）自适应地学习各种会话兴趣对目标item的影响。\n",
    "\n"
   ]
  },
  {
   "cell_type": "markdown",
   "metadata": {},
   "source": [
    "### Thinking6 如果你来设计淘宝定向广告，会有哪些future work（即下一个阶段的idea）\n"
   ]
  },
  {
   "cell_type": "markdown",
   "metadata": {},
   "source": [
    "##### 在DSIN的基础上，将30min的会话细分。将同一会话的同种类型的商品划分到同一子会话中，在30分钟的会话中划分出若干子会话，再通过相关策略进行建模。\n",
    "\n",
    "也可以根据用户此次会话访问时间最长的类型的商品增加权重，按权重进行建模。"
   ]
  },
  {
   "cell_type": "markdown",
   "metadata": {},
   "source": [
    "### Action1"
   ]
  },
  {
   "cell_type": "markdown",
   "metadata": {},
   "source": [
    "##### 使用LightGBM算法，提交分数接近0.66。LightGBM.ipynb文件"
   ]
  }
 ],
 "metadata": {
  "kernelspec": {
   "display_name": "Python 3",
   "language": "python",
   "name": "python3"
  },
  "language_info": {
   "codemirror_mode": {
    "name": "ipython",
    "version": 3
   },
   "file_extension": ".py",
   "mimetype": "text/x-python",
   "name": "python",
   "nbconvert_exporter": "python",
   "pygments_lexer": "ipython3",
   "version": "3.7.4"
  }
 },
 "nbformat": 4,
 "nbformat_minor": 4
}
